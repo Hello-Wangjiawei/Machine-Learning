{
 "cells": [
  {
   "cell_type": "code",
   "execution_count": 9,
   "id": "7c88cc34",
   "metadata": {},
   "outputs": [
    {
     "name": "stdout",
     "output_type": "stream",
     "text": [
      "[[2 1]\n",
      " [0 3]]\n",
      "              precision    recall  f1-score   support\n",
      "\n",
      "         0.0       1.00      0.67      0.80         3\n",
      "         1.0       0.75      1.00      0.86         3\n",
      "\n",
      "    accuracy                           0.83         6\n",
      "   macro avg       0.88      0.83      0.83         6\n",
      "weighted avg       0.88      0.83      0.83         6\n",
      "\n"
     ]
    }
   ],
   "source": [
    "import numpy as np  # for matrix calculation\n",
    "import matplotlib.pyplot as plt \n",
    "from sklearn import model_selection\n",
    "from sklearn.discriminant_analysis import LinearDiscriminantAnalysis\n",
    "from sklearn import metrics\n",
    "import matplotlib.pyplot as plt\n",
    "\n",
    "# 加载数据\n",
    "data_file = open('../Data/watermelon_3a.csv')\n",
    "dataset = np.loadtxt(data_file, delimiter=\",\")\n",
    "X = dataset[:,1:3]\n",
    "y = dataset[:,3]\n",
    "\n",
    "# 划分数据集\n",
    "X_train, X_test, y_train, y_test = model_selection.train_test_split(X, y, test_size=0.3, random_state=42)\n",
    "\n",
    "# 训练模型, solver='lsqr'是最小二乘法求解器\n",
    "lda_model = LinearDiscriminantAnalysis(solver='lsqr')\n",
    "lda_model.fit(X_train, y_train)\n",
    "\n",
    "# 预测结果\n",
    "y_pred = lda_model.predict(X_test)\n",
    "\n",
    "# 评估模型\n",
    "print(metrics.confusion_matrix(y_test, y_pred))\n",
    "print(metrics.classification_report(y_test, y_pred))\n",
    "\n",
    "# 打印LDA分割线方程\n",
    "w = lda_model.coef_[0]\n",
    "a = -w[0] / w[1]\n",
    "\n"
   ]
  }
 ],
 "metadata": {
  "kernelspec": {
   "display_name": "base",
   "language": "python",
   "name": "python3"
  },
  "language_info": {
   "codemirror_mode": {
    "name": "ipython",
    "version": 3
   },
   "file_extension": ".py",
   "mimetype": "text/x-python",
   "name": "python",
   "nbconvert_exporter": "python",
   "pygments_lexer": "ipython3",
   "version": "3.12.7"
  }
 },
 "nbformat": 4,
 "nbformat_minor": 5
}
