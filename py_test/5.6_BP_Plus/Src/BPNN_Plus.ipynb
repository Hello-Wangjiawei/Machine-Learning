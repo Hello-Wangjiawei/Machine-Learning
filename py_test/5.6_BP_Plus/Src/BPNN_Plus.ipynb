{
 "cells": [
  {
   "cell_type": "code",
   "execution_count": 2,
   "id": "6e78edbb",
   "metadata": {},
   "outputs": [
    {
     "name": "stdout",
     "output_type": "stream",
     "text": [
      "(17, 20)\n"
     ]
    }
   ],
   "source": [
    "import numpy as np\n",
    "import matplotlib.pyplot as plt\n",
    "import pandas as pd\n",
    "from sklearn.preprocessing import OneHotEncoder\n",
    "\n",
    "# 加载数据\n",
    "df = pd.DataFrame(pd.read_csv(\"../Data/watermelon3.0.csv\", encoding=\"ansi\"))\n",
    "df.drop(labels=[\"编号\"], axis=1, inplace=True)  # 删除编号这一列，inplace=True表示直接在原对象修改\n",
    "features = ['色泽', '根蒂', '敲声', '纹理', '脐部', '触感', '密度', '含糖量']\n",
    "# 提取特征和标签\n",
    "X = df.iloc[:,:-1].values\n",
    "y = df.iloc[:,-1].values\n",
    "# 转码\n",
    "X = pd.DataFrame(X, columns=features)\n",
    "# 独热编码\n",
    "X_encoded = pd.get_dummies(X,columns = [\"色泽\",\"根蒂\",\"敲声\",\"纹理\",\"脐部\",\"触感\"])\n",
    "new_features = list(X_encoded.columns)\n",
    "X_encoded = np.array(X_encoded, dtype=np.float64)\n",
    "# 标签数值化\n",
    "for i in range(len(y)):\n",
    "    if y[i] == '是':\n",
    "        y[i] = 1\n",
    "    else:\n",
    "        y[i] = 0\n",
    "y_encoded = np.array(y, dtype=np.int64).reshape(-1,1) # 转为列向量\n",
    "# 拼接特征和标签\n",
    "dataset = np.concatenate((X_encoded, y_encoded), axis=1)\n",
    "print(dataset.shape)   "
   ]
  },
  {
   "cell_type": "code",
   "execution_count": 9,
   "id": "b9097624",
   "metadata": {},
   "outputs": [
    {
     "name": "stdout",
     "output_type": "stream",
     "text": [
      "Epoch: 13783 \n",
      "Loss: 0.0009999772332157507\n"
     ]
    },
    {
     "data": {
      "image/png": "[encoded data removed]",
      "text/plain": [
       "<Figure size 640x480 with 1 Axes>"
      ]
     },
     "metadata": {},
     "output_type": "display_data"
    },
    {
     "name": "stdout",
     "output_type": "stream",
     "text": [
      "Epoch: 3069 \n",
      "Loss: 0.0009997702474342925\n"
     ]
    },
    {
     "data": {
      "image/png": "[encoded data removed]",
      "text/plain": [
       "<Figure size 640x480 with 1 Axes>"
      ]
     },
     "metadata": {},
     "output_type": "display_data"
    }
   ],
   "source": [
    "class Net_BP():\n",
    "    def __init__(self, input_size = 19, hidden_size = 10, output_size = 1, lr = 0.1):\n",
    "        \"\"\"\n",
    "        BP神经网络\n",
    "        \n",
    "        参数:\n",
    "        input_size: 输入层大小\n",
    "        hidden_size: 隐含层大小\n",
    "        output_size: 输出层大小\n",
    "        method: 训练方法，'standard_BP'表示标准BP算法，'accumulate_BP'表示累积BP算法\n",
    "        lr: 学习率\n",
    "        \"\"\"\n",
    "        self.input_size = input_size\n",
    "        self.hidden_size = hidden_size\n",
    "        self.output_size = output_size\n",
    "        self.lr = lr\n",
    "        # 输入与隐含层之间的连接权和阈值\n",
    "        self.w1 = np.random.randn(input_size, hidden_size)\n",
    "        self.b1 = np.random.randn(1, hidden_size)\n",
    "        # 隐含层与输出层之间的连接权和阈值\n",
    "        self.w2 = np.random.randn(hidden_size, output_size)\n",
    "        self.b2 = np.random.randn(1, output_size)\n",
    "\n",
    "\n",
    "    def sigmoid(self,z):\n",
    "        \"\"\"激活函数\"\"\"\n",
    "        return 1.0 / (1.0 + np.exp(-z))\n",
    "    \n",
    "    def standard_BP(self,X,y):\n",
    "        \"\"\"标准BP算法\"\"\"\n",
    "        loss = 1\n",
    "        all_loss = []\n",
    "        epoch = 0\n",
    "        while loss > 0.001:\n",
    "            for i in range(X.shape[0]):\n",
    "                # 前向传播\n",
    "                b = self.sigmoid(X[i] @ self.w1 - self.b1) # 隐含层输出(1 × hidden_size)\n",
    "                y_pred = self.sigmoid(b @ self.w2 - self.b2) # 输出层输出(1 × output_size)\n",
    "                # 反向传播\n",
    "                # 公式(5,10)\n",
    "                g = y_pred * (1 - y_pred) * (y[i] - y_pred) # (1 × output_size)\n",
    "                # 公式(5,15)\n",
    "                e = b * (1 - b) * (g @ self.w2.T) # (1 × hidden_size)\n",
    "                # 更新参数\n",
    "                self.w2 += self.lr * (b.T @ g) # (hidden_size × output_size)\n",
    "                self.b2 -= self.lr * g # (1 × output_size)\n",
    "                self.w1 += self.lr * (X[i].reshape(-1,1) @ e) # (input_size × hidden_size)\n",
    "                self.b1 -= self.lr * e # (1 × hidden_size)\n",
    "            # 计算损失\n",
    "            loss = self.calulate_loss(X,y)\n",
    "            all_loss.append(loss)\n",
    "            epoch += 1\n",
    "        print('Epoch:', epoch,'\\nLoss:', loss)\n",
    "        # 绘制损失变化图\n",
    "        plt.plot(all_loss)\n",
    "        plt.show()\n",
    "\n",
    "    def standard_BP_Plus(self,X,y):\n",
    "        \"\"\"优化标准BP算法\"\"\"\n",
    "        loss = 1\n",
    "        last_loss = 0\n",
    "        all_loss = []\n",
    "        epoch = 0\n",
    "        start_lr = 0.1 / np.sqrt(self.hidden_size)\n",
    "        lr_dynamic = start_lr\n",
    "        while loss > 0.001:\n",
    "            for i in range(X.shape[0]):\n",
    "                # 前向传播\n",
    "                b = self.sigmoid(X[i] @ self.w1 - self.b1) # 隐含层输出(1 × hidden_size)\n",
    "                y_pred = self.sigmoid(b @ self.w2 - self.b2) # 输出层输出(1 × output_size)\n",
    "                # 反向传播\n",
    "                # 公式(5,10)\n",
    "                g = y_pred * (1 - y_pred) * (y[i] - y_pred) # (1 × output_size)\n",
    "                # 公式(5,15)\n",
    "                e = b * (1 - b) * (g @ self.w2.T) # (1 × hidden_size)\n",
    "                # 更新参数\n",
    "                self.w2 += lr_dynamic * (b.T @ g) # (hidden_size × output_size)\n",
    "                self.b2 -= lr_dynamic * g # (1 × output_size)\n",
    "                self.w1 += lr_dynamic * (X[i].reshape(-1,1) @ e) # (input_size × hidden_size)\n",
    "                self.b1 -= lr_dynamic * e # (1 × hidden_size)\n",
    "            # 计算损失\n",
    "            last_loss = loss\n",
    "            loss = self.calulate_loss(X,y)\n",
    "            all_loss.append(loss)\n",
    "            # 更新轮数\n",
    "            epoch += 1\n",
    "            # 更新学习率\n",
    "            if last_loss < loss:\n",
    "                lr_dynamic = max(lr_dynamic * 0.7, 0.001)\n",
    "            else:\n",
    "                lr_dynamic = min(lr_dynamic * 1.05, 0.5)\n",
    "        print('Epoch:', epoch,'\\nLoss:', loss)\n",
    "        # 绘制损失变化图\n",
    "        plt.plot(all_loss)\n",
    "        plt.show()\n",
    "\n",
    "\n",
    "    def predict(self,X):\n",
    "        \"\"\"预测\"\"\"\n",
    "        b = self.sigmoid(X @ self.w1 - self.b1) # 隐含层输出(1 × hidden_size)\n",
    "        y_pred = self.sigmoid(b @ self.w2 - self.b2) # 输出层输出(1 × output_size)\n",
    "        return y_pred\n",
    "    \n",
    "    def calulate_loss(self,X,y):\n",
    "        \"\"\"计算损失\"\"\"\n",
    "        loss = 0\n",
    "        loss = (1/2) * np.sum((y - self.predict(X))**2)\n",
    "        return loss\n",
    "    \n",
    "    \n",
    "\n",
    "if __name__ == '__main__':\n",
    "    BP_Std = Net_BP(lr=0.1)\n",
    "    BP_Std.standard_BP(X_encoded,y_encoded)\n",
    "\n",
    "    BP_Std_Plus = Net_BP(lr=0.1)\n",
    "    BP_Std_Plus.standard_BP_Plus(X_encoded,y_encoded)\n",
    "        \n",
    "                \n",
    "\n",
    "    \n",
    "    \n",
    "        "
   ]
  }
 ],
 "metadata": {
  "kernelspec": {
   "display_name": "base",
   "language": "python",
   "name": "python3"
  },
  "language_info": {
   "codemirror_mode": {
    "name": "ipython",
    "version": 3
   },
   "file_extension": ".py",
   "mimetype": "text/x-python",
   "name": "python",
   "nbconvert_exporter": "python",
   "pygments_lexer": "ipython3",
   "version": "3.12.7"
  }
 },
 "nbformat": 4,
 "nbformat_minor": 5
}
