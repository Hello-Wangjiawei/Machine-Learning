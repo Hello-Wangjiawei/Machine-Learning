{
 "cells": [
  {
   "cell_type": "code",
   "execution_count": 1,
   "id": "b4867e07",
   "metadata": {},
   "outputs": [
    {
     "name": "stdout",
     "output_type": "stream",
     "text": [
      "(17, 20)\n"
     ]
    }
   ],
   "source": [
    "import numpy as np\n",
    "import matplotlib.pyplot as plt\n",
    "import pandas as pd\n",
    "from sklearn.preprocessing import OneHotEncoder\n",
    "\n",
    "# 加载数据\n",
    "df = pd.DataFrame(pd.read_csv(\"../Data/watermelon3.0.csv\", encoding=\"ansi\"))\n",
    "df.drop(labels=[\"编号\"], axis=1, inplace=True)  # 删除编号这一列，inplace=True表示直接在原对象修改\n",
    "features = ['色泽', '根蒂', '敲声', '纹理', '脐部', '触感', '密度', '含糖量']\n",
    "# 提取特征和标签\n",
    "X = df.iloc[:,:-1].values\n",
    "y = df.iloc[:,-1].values\n",
    "# 转码\n",
    "X = pd.DataFrame(X, columns=features)\n",
    "# 独热编码\n",
    "X_encoded = pd.get_dummies(X,columns = [\"色泽\",\"根蒂\",\"敲声\",\"纹理\",\"脐部\",\"触感\"])\n",
    "new_features = list(X_encoded.columns)\n",
    "X_encoded = np.array(X_encoded, dtype=np.float64)\n",
    "# 标签数值化\n",
    "for i in range(len(y)):\n",
    "    if y[i] == '是':\n",
    "        y[i] = 1\n",
    "    else:\n",
    "        y[i] = 0\n",
    "y_encoded = np.array(y, dtype=np.int64).reshape(-1,1) # 转为列向量\n",
    "# 拼接特征和标签\n",
    "dataset = np.concatenate((X_encoded, y_encoded), axis=1)\n",
    "print(dataset.shape)   \n",
    "     \n",
    "\n",
    "\n"
   ]
  },
  {
   "cell_type": "code",
   "execution_count": null,
   "id": "47ff9f5e",
   "metadata": {},
   "outputs": [],
   "source": [
    "class Net():\n",
    "    def __init__(self, input_size = 19, hidden_size = 10, output_size = 1):\n",
    "        # 输入与隐含层之间的连接权和阈值\n",
    "        self.w1 = np.random.randn(hidden_size, input_size)\n",
    "        self.b1 = np.zeros((hidden_size, 1))\n",
    "        # 隐含层输出\n",
    "        self.o1 = np.zeros((hidden_size, 1))\n",
    "        # 隐含层与输出层之间的连接权和阈值\n",
    "        self.w2 = np.random.randn(output_size, hidden_size)\n",
    "        self.b2 = np.zeros((output_size, 1))\n",
    "        # 输出层输出\n",
    "        self.o2 = np.zeros((output_size, 1))\n",
    "        # 各变量梯度\n",
    "        self.dw1 = np.zeros(self.w1.shape)\n",
    "        self.db1 = np.zeros(self.b1.shape)\n",
    "        self.e = np.zeros(self.o1.shape)\n",
    "        self.dw2 = np.zeros(self.w2.shape)\n",
    "        self.db2 = np.zeros(self.b2.shape)\n",
    "        self.g = np.zeros(self.o2.shape)\n",
    "\n",
    "    def sigmoid(self,z):\n",
    "        \"\"\"激活函数\"\"\"\n",
    "        return 1.0/(1.0+np.exp(-z))\n",
    "    \n",
    "    def forward(self, X):\n",
    "        \"\"\"前向传播\"\"\"\n",
    "        if(X.shape[0] != self.w1.shape[1]):\n",
    "            print(\"input size not match\")\n",
    "            return\n",
    "        self.o1 = self.sigmoid(self.w1 @ X + self.b1) # (hidden_size × 1)\n",
    "        self.o2 = self.sigmoid(self.w2 @ self.o1 + self.b2) # (output_size × 1)\n",
    "        return self.o2\n",
    "    \n",
    "    def standard_BP(self,y,lr = 0.1):\n",
    "        \"\"\"标准BP算法\"\"\"\n",
    "        # 公式(5.10)\n",
    "        self.g = self.o2 * (1 - self.o2) * (self.o2 - y) # (output_size × 1)\n",
    "        # 公式(5.11) 注意维度匹配\n",
    "        self.dw2 = self.g @ self.o1.T # (output_size × hidden_size)\n",
    "        # 公式(5.12) 和书上差一个负号是因为书上的线性模型是减去阈值\n",
    "        self.db2 = self.g \n",
    "        # 公式(5.15)\n",
    "        self.e = (self.o1 * (1 - self.o1)) * (self.w2.T @ self.g) # (hidden_size × 1)\n",
    "\n",
    "\n",
    "\n",
    "\n",
    "    \n",
    "        "
   ]
  }
 ],
 "metadata": {
  "kernelspec": {
   "display_name": "base",
   "language": "python",
   "name": "python3"
  },
  "language_info": {
   "codemirror_mode": {
    "name": "ipython",
    "version": 3
   },
   "file_extension": ".py",
   "mimetype": "text/x-python",
   "name": "python",
   "nbconvert_exporter": "python",
   "pygments_lexer": "ipython3",
   "version": "3.12.7"
  }
 },
 "nbformat": 4,
 "nbformat_minor": 5
}
