{
 "cells": [
  {
   "cell_type": "code",
   "execution_count": 47,
   "id": "b4867e07",
   "metadata": {},
   "outputs": [
    {
     "name": "stdout",
     "output_type": "stream",
     "text": [
      "[[0.697 0.46  0.    0.    1.    0.    0.    1.    0.    1.    0.    0.\n",
      "  1.    0.    1.    0.    0.    1.    0.    1.   ]\n",
      " [0.774 0.376 1.    0.    0.    0.    0.    1.    1.    0.    0.    0.\n",
      "  1.    0.    1.    0.    0.    1.    0.    1.   ]\n",
      " [0.634 0.264 1.    0.    0.    0.    0.    1.    0.    1.    0.    0.\n",
      "  1.    0.    1.    0.    0.    1.    0.    1.   ]\n",
      " [0.608 0.318 0.    0.    1.    0.    0.    1.    1.    0.    0.    0.\n",
      "  1.    0.    1.    0.    0.    1.    0.    1.   ]\n",
      " [0.556 0.215 0.    1.    0.    0.    0.    1.    0.    1.    0.    0.\n",
      "  1.    0.    1.    0.    0.    1.    0.    1.   ]\n",
      " [0.403 0.237 0.    0.    1.    0.    1.    0.    0.    1.    0.    0.\n",
      "  1.    0.    0.    0.    1.    0.    1.    1.   ]\n",
      " [0.481 0.149 1.    0.    0.    0.    1.    0.    0.    1.    0.    0.\n",
      "  0.    1.    0.    0.    1.    0.    1.    1.   ]\n",
      " [0.437 0.211 1.    0.    0.    0.    1.    0.    0.    1.    0.    0.\n",
      "  1.    0.    0.    0.    1.    1.    0.    1.   ]\n",
      " [0.666 0.091 1.    0.    0.    0.    1.    0.    1.    0.    0.    0.\n",
      "  0.    1.    0.    0.    1.    1.    0.    0.   ]\n",
      " [0.243 0.267 0.    0.    1.    1.    0.    0.    0.    0.    1.    0.\n",
      "  1.    0.    0.    1.    0.    0.    1.    0.   ]\n",
      " [0.245 0.057 0.    1.    0.    1.    0.    0.    0.    0.    1.    1.\n",
      "  0.    0.    0.    1.    0.    1.    0.    0.   ]\n",
      " [0.343 0.099 0.    1.    0.    0.    0.    1.    0.    1.    0.    1.\n",
      "  0.    0.    0.    1.    0.    0.    1.    0.   ]\n",
      " [0.639 0.161 0.    0.    1.    0.    1.    0.    0.    1.    0.    0.\n",
      "  0.    1.    1.    0.    0.    1.    0.    0.   ]\n",
      " [0.657 0.198 0.    1.    0.    0.    1.    0.    1.    0.    0.    0.\n",
      "  0.    1.    1.    0.    0.    1.    0.    0.   ]\n",
      " [0.36  0.37  1.    0.    0.    0.    1.    0.    0.    1.    0.    0.\n",
      "  1.    0.    0.    0.    1.    0.    1.    0.   ]\n",
      " [0.593 0.042 0.    1.    0.    0.    0.    1.    0.    1.    0.    1.\n",
      "  0.    0.    0.    1.    0.    1.    0.    0.   ]\n",
      " [0.719 0.103 0.    0.    1.    0.    0.    1.    1.    0.    0.    0.\n",
      "  0.    1.    0.    0.    1.    1.    0.    0.   ]]\n"
     ]
    }
   ],
   "source": [
    "import numpy as np\n",
    "import matplotlib.pyplot as plt\n",
    "import pandas as pd\n",
    "from sklearn.preprocessing import OneHotEncoder\n",
    "\n",
    "# 加载数据\n",
    "df = pd.DataFrame(pd.read_csv(\"../Data/watermelon3.0.csv\", encoding=\"ansi\"))\n",
    "df.drop(labels=[\"编号\"], axis=1, inplace=True)  # 删除编号这一列，inplace=True表示直接在原对象修改\n",
    "features = ['色泽', '根蒂', '敲声', '纹理', '脐部', '触感', '密度', '含糖量']\n",
    "# 提取特征和标签\n",
    "X = df.iloc[:,:-1].values\n",
    "y = df.iloc[:,-1].values\n",
    "# 转码\n",
    "X = pd.DataFrame(X, columns=features)\n",
    "# 独热编码\n",
    "X_encoded = pd.get_dummies(X,columns = [\"色泽\",\"根蒂\",\"敲声\",\"纹理\",\"脐部\",\"触感\"])\n",
    "new_features = list(X_encoded.columns)\n",
    "X_encoded = np.array(X_encoded, dtype=np.float64)\n",
    "# 标签数值化\n",
    "for i in range(len(y)):\n",
    "    if y[i] == '是':\n",
    "        y[i] = 1\n",
    "    else:\n",
    "        y[i] = 0\n",
    "y_encoded = np.array(y, dtype=np.int64).reshape(-1,1)\n",
    "# 拼接特征和标签\n",
    "dataset = np.concatenate((X_encoded, y_encoded), axis=1)\n",
    "print(dataset)   \n",
    "     \n",
    "\n",
    "\n"
   ]
  }
 ],
 "metadata": {
  "kernelspec": {
   "display_name": "base",
   "language": "python",
   "name": "python3"
  },
  "language_info": {
   "codemirror_mode": {
    "name": "ipython",
    "version": 3
   },
   "file_extension": ".py",
   "mimetype": "text/x-python",
   "name": "python",
   "nbconvert_exporter": "python",
   "pygments_lexer": "ipython3",
   "version": "3.12.7"
  }
 },
 "nbformat": 4,
 "nbformat_minor": 5
}
