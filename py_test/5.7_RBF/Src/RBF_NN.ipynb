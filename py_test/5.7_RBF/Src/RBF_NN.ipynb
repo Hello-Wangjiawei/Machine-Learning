{
 "cells": [
  {
   "cell_type": "code",
   "execution_count": null,
   "id": "2795465d",
   "metadata": {},
   "outputs": [
    {
     "name": "stdout",
     "output_type": "stream",
     "text": [
      "[[15.22994246]]\n"
     ]
    }
   ],
   "source": [
    "import numpy as np\n",
    "\n",
    "# 加载数据\n",
    "dataset = np.array([[0, 0, 0],[0, 1, 1],[1, 0, 1],[1, 1, 0]])\n",
    "X = dataset[:,:-1]\n",
    "y = dataset[:,-1]\n",
    "\n",
    "class RBF_NN:\n",
    "    def __init__(self,input_size,hidden_size,output_size,lr = 0.1):\n",
    "        self.input_size = input_size\n",
    "        self.hidden_size = hidden_size\n",
    "        self.output_size = output_size\n",
    "        self.lr = lr\n",
    "\n",
    "        # 隐含层到输出层的权重\n",
    "        self.w = np.random.randn(hidden_size,output_size)\n",
    "        # 高斯径向中的参数β\n",
    "        self.beta = np.random.randn(1,hidden_size)\n",
    "\n",
    "    def RBF(self,X,c):\n",
    "        \"\"\"高斯径向基函数\"\"\"\n",
    "        return np.exp(-self.beta*np.linalg.norm(X-c,axis=1)**2)\n",
    "    \n",
    "    def predict(self,X,c):\n",
    "        \"\"\"前向传播预测\"\"\"\n",
    "        # 隐含层输出\n",
    "        trainX = np.tile(X,(self.hidden_size,1)) # (hidden_size,input_size)\n",
    "        b = self.RBF(trainX,c) # (1,hidden_size)\n",
    "        # 输出层输出\n",
    "        y_pred = b @ self.w # (1,output_size)\n",
    "        return y_pred\n",
    "    \n",
    "    def train(self,X,y):\n",
    "        \"\"\"训练模型\"\"\"\n",
    "        # 从样本中随机采样隐含层中心\n",
    "        c = X[np.random.choice(X.shape[0],self.hidden_size,replace=True)]\n",
    "        \n",
    "        \n",
    "\n",
    "if __name__ == '__main__':\n",
    "    # 实例化模型\n",
    "    rbf = RBF_NN(input_size=2,hidden_size=5,output_size=1)\n",
    "    # 训练模型\n",
    "    rbf.train(X,y)\n",
    "\n",
    "\n",
    "            \n",
    "            \n"
   ]
  }
 ],
 "metadata": {
  "kernelspec": {
   "display_name": "base",
   "language": "python",
   "name": "python3"
  },
  "language_info": {
   "codemirror_mode": {
    "name": "ipython",
    "version": 3
   },
   "file_extension": ".py",
   "mimetype": "text/x-python",
   "name": "python",
   "nbconvert_exporter": "python",
   "pygments_lexer": "ipython3",
   "version": "3.12.7"
  }
 },
 "nbformat": 4,
 "nbformat_minor": 5
}
