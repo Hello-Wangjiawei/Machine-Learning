{
 "cells": [
  {
   "cell_type": "code",
   "execution_count": 244,
   "id": "2795465d",
   "metadata": {},
   "outputs": [
    {
     "name": "stdout",
     "output_type": "stream",
     "text": [
      "0.10702230021624919\n",
      "0.059527542262634035\n",
      "0.03891253190843837\n",
      "0.02704609424560075\n",
      "0.019522017056190902\n",
      "0.014491463451336317\n",
      "0.01098597762625958\n",
      "0.00846609218406854\n",
      "训练结束，共训练8轮，损失为0.008466\n"
     ]
    },
    {
     "data": {
      "image/png": "[encoded data removed]",
      "text/plain": [
       "<Figure size 640x480 with 1 Axes>"
      ]
     },
     "metadata": {},
     "output_type": "display_data"
    },
    {
     "name": "stdout",
     "output_type": "stream",
     "text": [
      "输入：[1 0]，输出：0.964817\n",
      "输入：[1 0]，输出：0.964817\n",
      "输入：[1 0]，输出：0.964817\n",
      "输入：[0 0]，输出：-0.150894\n",
      "输入：[0 0]，输出：-0.150894\n",
      "输入：[0 1]，输出：0.865916\n",
      "输入：[0 0]，输出：-0.150894\n",
      "输入：[1 1]，输出：0.155944\n",
      "输入：[1 1]，输出：0.155944\n",
      "输入：[1 1]，输出：0.155944\n",
      "输入：[0 1]，输出：0.865916\n",
      "输入：[1 0]，输出：0.964817\n",
      "输入：[1 1]，输出：0.155944\n",
      "输入：[0 0]，输出：-0.150894\n",
      "输入：[0 0]，输出：-0.150894\n",
      "输入：[1 0]，输出：0.964817\n",
      "输入：[0 0]，输出：-0.150894\n",
      "输入：[1 0]，输出：0.964817\n",
      "输入：[0 1]，输出：0.865916\n",
      "输入：[1 0]，输出：0.964817\n"
     ]
    },
    {
     "name": "stderr",
     "output_type": "stream",
     "text": [
      "C:\\Users\\25313\\AppData\\Local\\Temp\\ipykernel_21444\\727261856.py:87: DeprecationWarning: Conversion of an array with ndim > 0 to a scalar is deprecated, and will error in future. Ensure you extract a single element from your array before performing this operation. (Deprecated NumPy 1.25.)\n",
      "  print(\"输入：%s，输出：%f\" % (X_train[i],y_pred))\n"
     ]
    }
   ],
   "source": [
    "import numpy as np\n",
    "import matplotlib.pyplot as plt\n",
    "\n",
    "# 加载数据(异或逻辑)\n",
    "X = np.random.randint(0,2,(100,2))\n",
    "y = np.logical_xor(X[:,0],X[:,1]).astype(int)\n",
    "\n",
    "\n",
    "class RBF_NN:\n",
    "    def __init__(self,input_size,hidden_size,output_size,lr = 0.1):\n",
    "        self.input_size = input_size\n",
    "        self.hidden_size = hidden_size\n",
    "        self.output_size = output_size\n",
    "        self.lr = lr\n",
    "\n",
    "        # 隐含层到输出层的权重\n",
    "        self.w = np.random.rand(hidden_size,output_size)\n",
    "        # 高斯径向中的参数β\n",
    "        self.beta = np.random.randn(1,hidden_size)\n",
    "        # 高斯径向中的参数c\n",
    "        self.c = np.random.rand(self.hidden_size,self.input_size)\n",
    "\n",
    "    def RBF(self,X):\n",
    "        \"\"\"高斯径向基函数\"\"\"\n",
    "        return np.exp(-self.beta*np.linalg.norm(X-self.c,axis=1)**2)\n",
    "    \n",
    "    def predict(self,X):\n",
    "        \"\"\"前向传播预测\"\"\"\n",
    "        # 隐含层输出\n",
    "        trainX = np.tile(X,(self.hidden_size,1)) # (hidden_size,input_size)\n",
    "        b = self.RBF(trainX) # (1,hidden_size)\n",
    "        # 输出层输出\n",
    "        y_pred = b @ self.w # (1,output_size)\n",
    "        return y_pred\n",
    "    \n",
    "    def train(self,X,y):\n",
    "        \"\"\"训练模型\"\"\"\n",
    "        # 从样本中随机采样隐含层中心\n",
    "        # c = X[np.random.choice(X.shape[0],self.hidden_size,replace=True)] # (hidden_size,input_size)\n",
    "        # 训练\n",
    "        loss = 1\n",
    "        loss_all = []\n",
    "        epoch = 0\n",
    "        while loss > 0.01 and epoch < 1000:\n",
    "            for i in range(X.shape[0]):\n",
    "                # 前向传播\n",
    "                trainX = np.tile(X[i],(self.hidden_size,1)) # (hidden_size,input_size)\n",
    "                b = self.RBF(trainX) # (1,hidden_size)\n",
    "                y_pred = b @ self.w # (1,output_size)\n",
    "                # 反向传播\n",
    "                dw = b.T @ (y_pred - y[i]) # (hidden_size,output_size)\n",
    "                dbata = -(np.linalg.norm(trainX-self.c,axis=1)**2) * (b @ dw) # (1,hidden_size)\n",
    "                # 更新参数\n",
    "                self.w -= self.lr * dw\n",
    "                self.beta -= self.lr * dbata\n",
    "            # 计算损失\n",
    "            loss = self.calculate_loss(X,y)\n",
    "            print(loss)\n",
    "            loss_all.append(loss)\n",
    "            epoch += 1\n",
    "        # 打印训练信息\n",
    "        print(\"训练结束，共训练%d轮，损失为%f\" % (epoch,loss))\n",
    "        plt.plot(loss_all)\n",
    "        plt.xlabel(\"Epoch\")\n",
    "        plt.ylabel(\"Loss\")\n",
    "        plt.show()\n",
    "\n",
    "    def calculate_loss(self,X,y):\n",
    "        \"\"\"计算损失\"\"\"\n",
    "        loss = 0\n",
    "        for i in range(X.shape[0]):\n",
    "            y_pred = self.predict(X[i])\n",
    "            loss += (1 / 2) * np.sum((y_pred - y[i]) ** 2)\n",
    "        return (loss / float(X.shape[0]))\n",
    "\n",
    "       \n",
    "\n",
    "if __name__ == '__main__':\n",
    "    # 实例化模型\n",
    "    rbf = RBF_NN(input_size=2,hidden_size=10,output_size=1,lr = 0.1)\n",
    "    # 训练模型\n",
    "    rbf.train(X,y)\n",
    "    # 预测\n",
    "    X_train = np.random.randint(0,2,(20,2))\n",
    "    for i in range(X_train.shape[0]):\n",
    "        y_pred = rbf.predict(X_train[i])\n",
    "        print(\"输入：%s，输出：%f\" % (X_train[i],y_pred))\n",
    "\n",
    "\n",
    "            \n",
    "            \n"
   ]
  }
 ],
 "metadata": {
  "kernelspec": {
   "display_name": "base",
   "language": "python",
   "name": "python3"
  },
  "language_info": {
   "codemirror_mode": {
    "name": "ipython",
    "version": 3
   },
   "file_extension": ".py",
   "mimetype": "text/x-python",
   "name": "python",
   "nbconvert_exporter": "python",
   "pygments_lexer": "ipython3",
   "version": "3.12.7"
  }
 },
 "nbformat": 4,
 "nbformat_minor": 5
}
